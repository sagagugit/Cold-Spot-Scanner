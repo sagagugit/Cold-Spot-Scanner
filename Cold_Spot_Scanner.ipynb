{
  "cells": [
    {
      "cell_type": "markdown",
      "metadata": {
        "id": "KWgOmtUmPDNG"
      },
      "source": [
        "# **CS SCANNER** (cold spot scanner)\n",
        "\n",
        "![](https://github.com/sagagu/csw1/blob/main/cold_spot.png?raw=true)\n",
        "\n",
        "**About cold-spots in protein-protein interactions**\n",
        "\n",
        "Cold spots are positions in proteins occupied by non-optimal amino acids. At cold-spot positions, several possible mutations lead to affinity enhancement [1]. We identified three possible scenarios how cold-spots could occur:\n",
        "\n",
        "\n",
        " (I) Cold-spots occur at positions where a WT amino acid does not interact with the binding partner, creating a **cavity**.\n",
        "\n",
        "\n",
        "(II) Cold-spots occur at positions where a charged amino acid is buried in hydrophobic environment, exhibiting **unfavourable Charge-Hydrophobic (CH) interactions**. Eliminating the charged amino acid through a mutation enhances affinity. \n",
        "\n",
        "\n",
        "(III) Cold-spots occur at positions where two amino acids of the same charge come close together, exibiting **unfavorable Same-Charge (SC) interactions**. Eliminating one of these charges through a mutation enhances affinity. \n",
        "\n",
        "\n",
        "Previously, we searched for cold spots in the whole PDB and proved that cold spots are a general feature in evolution of protein-protein iteractions[2]. \n",
        "\n",
        "\n",
        "**About this Colab notebook**\n",
        "\n",
        "This colab notebook allows you to identify cold spots due to the above three scenarios in your favorite protein-protein complex. Once the structure is uploaded, the notebook computes the cold spots, visualizes the cold spots in the structure of the complex, and creates a summary file for download.\n",
        "\n",
        "**Instructions for using this Colab notebook**\n",
        "\n",
        "Two options are possible for uploading the protein complex structure.\n",
        "\n",
        "1)\t**The complex structure is downloaded directly from the PDB**. Please input the \"PDB ID\" of the Protein complex and chain IDs to define the interface of the protein complex under the sub category \"PDB ID and chains\". If you mention chains that are not interacting, the program will generate an error message upon execution.  \n",
        "\n",
        "\n",
        "2)\t**The complex structure is uploaded from the user’s computer**. To enable users to upload their own complex, kindly remove the comment symbols (#) from all lines in the section labeled \"Uploading the complex instead of PDB ID\". Once uncommented, the user can upload their desired complex upon execution. **Before execution of the program**, specify its corresponding four-letter name and chains under the \"PDB ID and chains\" subcategory. Please ensure that the name assigned to the uploaded complex is limited to a four-letter format, similar to that of a PDB ID.\n",
        "\n",
        "\n",
        "\n",
        "**Citing this work**\n",
        "\n",
        "\n",
        "Please cite the articles \n",
        "\n",
        "1)J. Shirian, O. Sharabi, and J. M. Shifman. 2016. “Cold-spots in Protein Binding.” Trends Biochem Sci, 41(9), Pp. 739-45.\n",
        "\n",
        "\n",
        "2) Sagara N. S. Gurusinghe, Ben Oppenheiner, and Julia M. Shifman. 9/21/2022.\"Cold Spots are Universal in protein- protein interactions\",  Protein Science, 31, 10, Pp. e4435.\n",
        "\n",
        "   \n",
        "Contact: \n",
        "If you encounter any problems of errors with running this notebook please contact Sagara Gurushighe (sagara.gurusinghe@mail.huji.ac.il).\n",
        "\n",
        "\n",
        " We recommend using either **Google Chrome** or **Mozilla Firefox** to effectively utilize and navigate through this Colab page.  "
      ]
    },
    {
      "cell_type": "markdown",
      "metadata": {
        "id": "18zXDbemRcfP"
      },
      "source": [
        "# Download the CS SCAN"
      ]
    },
    {
      "cell_type": "code",
      "execution_count": 1,
      "metadata": {
        "id": "8-zjVmQTqiPi"
      },
      "outputs": [],
      "source": [
        "%%bash\n",
        "\n",
        "cd /content/\n",
        "\n",
        "if [ ! -f Cold-Spot-Scanner ]; then\n",
        "\n",
        "    \n",
        "    # delete the Cold-scanner/ directory if it already exists\n",
        "    if [ -d \"Cold-Spot-Scanner/\" ]; then\n",
        "        rm -rf Cold-Spot-Scanner/\n",
        "    fi\n",
        "    \n",
        "    # download model\n",
        "    git clone https://github.com/sagagugit/Cold-Spot-Scanner --quiet\n",
        "    touch Cold-Spot-Scanner\n",
        "fi"
      ]
    },
    {
      "cell_type": "markdown",
      "metadata": {
        "id": "jo1j8NoRRzCT"
      },
      "source": [
        "# Prepare input for the scan"
      ]
    },
    {
      "cell_type": "code",
      "execution_count": null,
      "metadata": {
        "cellView": "form",
        "id": "pronx1UoSXFv"
      },
      "outputs": [],
      "source": [
        "#@title Install necessary packages\n",
        "#Install Biopython\n",
        "%%capture\n",
        "!pip install Bio\n",
        "!pip install py3Dmol\n",
        "!pip install fileupload"
      ]
    },
    {
      "cell_type": "code",
      "execution_count": null,
      "metadata": {
        "cellView": "form",
        "id": "aA6AP0eYc8Sy"
      },
      "outputs": [],
      "source": [
        "#@title Selecting the path\n",
        "%%capture\n",
        "cd Cold-Spot-Scanner"
      ]
    },
    {
      "cell_type": "markdown",
      "metadata": {
        "id": "z4xD5LXEs45p"
      },
      "source": [
        "Uploading the complex instead of PDB ID"
      ]
    },
    {
      "cell_type": "code",
      "execution_count": null,
      "metadata": {
        "id": "5sP7b7ILtVIj"
      },
      "outputs": [],
      "source": [
        "# try:\n",
        "#   from google.colab import drive\n",
        "#   drive.mount('/content/drive')\n",
        "#   from google.colab import files\n",
        "#   uploaded = files.upload()\n",
        "# except FileNotFoundError:\n",
        "#   print(\"ERROR: \\n Uploading was not successful. Please restart and try to upload the complex again\")"
      ]
    },
    {
      "cell_type": "code",
      "execution_count": null,
      "metadata": {
        "cellView": "form",
        "id": "28YGHya0SBPg"
      },
      "outputs": [],
      "source": [
        "#@title PDB ID and chains\n",
        "#Please provide the 4 letter PDB ID of the protein protein complex\n",
        "# Example shown below '1PXV', (Protein complex of cysteine protease with cysteine protease Inhibitor)\n",
        "PDB = '1WEJ'#@param {type:\"string\"}\n",
        "#PDB =  'PDB'#@param {type:\"string\"}\n",
        "#Please proivde the two chains below to define the interface of the protein complex\n",
        "# Example shown below the two chains 'A:C' of the complex cysteine protease with cysteine protease Inhibitor\n",
        "#chains = 'A:B'\n",
        "chain_A =  'F'#@param {type:\"string\"}\n",
        "chain_B =  'HL'#@param {type:\"string\"}\n",
        "\n"
      ]
    },
    {
      "cell_type": "markdown",
      "metadata": {
        "id": "BayhB7oSSfRi"
      },
      "source": [
        "# Run Cold Spot Scan and visualise the cold spots"
      ]
    },
    {
      "cell_type": "code",
      "execution_count": null,
      "metadata": {
        "cellView": "form",
        "id": "9WMqg4zjNSJQ"
      },
      "outputs": [],
      "source": [
        "#@title Running the cold spot scan\n",
        "%%capture\n",
        "input = PDB + '_' + chain_A + ':' + chain_B\n",
        "f = open(\"PDB_and_chain\", \"w\")\n",
        "f.write(input)\n",
        "f.close()\n",
        "!python init_database.py x\n",
        "!python setupPpiDb.py PDB_and_chain x\n",
        "!cp /content/Cold-Spot-Scanner/results/cold_spots/Cold_spots_residues_due_to_CH_interactions.csv /content/Cold-Spot-Scanner\n",
        "!cp /content/Cold-Spot-Scanner/results/cold_spots/Cold_spots_due_to_SC_interactions.csv /content/Cold-Spot-Scanner"
      ]
    },
    {
      "cell_type": "code",
      "execution_count": null,
      "metadata": {
        "cellView": "form",
        "id": "n7NXNWsK6tG8"
      },
      "outputs": [],
      "source": [
        "try:  \n",
        "  #@title Visualise cold spots\n",
        "  import pandas as pd\n",
        "  df = pd.read_csv(\"Cold_spots_residues_due_to_CH_interactions.csv\",skiprows=1)\n",
        "  df1 = pd.read_csv(\"Cold_spots_due_to_SC_interactions.csv\",skiprows=1)\n",
        "  df = df.dropna()\n",
        "  df1 = df1.dropna()\n",
        "  df['Chain'] = df['Chain'].str.lstrip()\n",
        "  df1['Chain'] = df1['Chain'].str.lstrip()\n",
        "  import py3Dmol\n",
        "  with open(PDB+\"Sepereated_clusters.pdb\") as ifile:\n",
        "      system = \"\".join([x for x in ifile])\n",
        "  with open(PDB+\"_C.pdb\") as ifilex:\n",
        "      systemx = \"\".join([x for x in ifilex])\n",
        "\n",
        "  view = py3Dmol.view(width=800, height=600)\n",
        "  view.addModelsAsFrames(system)\n",
        "  view.setStyle({'model': -1}, {\"sphere\": {'color': 'spectrum'}})\n",
        "  view.addModelsAsFrames(systemx)\n",
        "  view.setStyle({'model': -1}, {'cartoon': {'colorscheme': 'chain'}})\n",
        "  # view.addStyle({'chain':df['x'],'resi':y},\n",
        "  #               {'stick':{'colorscheme':'blueCarbon'}})\n",
        "  for idx, row in df1.iterrows():\n",
        "      chain = row['Chain']\n",
        "      resi = row['Residue_number']\n",
        "      view.setStyle({'chain': chain, 'resi': str(resi)}, {'stick': {'color': 'blue'}})\n",
        "  for idx, row in df.iterrows():\n",
        "      chain = row['Chain']\n",
        "      resi = row['Residue_number']\n",
        "      view.setStyle({'chain': chain, 'resi': str(resi)}, {'stick': {'color': 'yellow'}})\n",
        "  view.zoomTo()\n",
        "  view.show()\n",
        "except FileNotFoundError:\n",
        "  print(\"ERROR: \\n Please give a valid PDB ID and Chain identifiers for that specific PDB ID. \\n  If you upload a complex Kindly ensure that the name assigned to the uploaded complex is limited to a four-letter format, similar to that of a PDB ID\")"
      ]
    },
    {
      "cell_type": "markdown",
      "metadata": {
        "id": "PWjveO8hqBFt"
      },
      "source": [
        "# Download Results"
      ]
    },
    {
      "cell_type": "code",
      "execution_count": null,
      "metadata": {
        "id": "-IKjN9xzHARE"
      },
      "outputs": [],
      "source": [
        "cd /content/Cold-Spot-Scanner/results/"
      ]
    },
    {
      "cell_type": "code",
      "execution_count": null,
      "metadata": {
        "id": "JliyNeGS-FVL"
      },
      "outputs": [],
      "source": [
        "!rm /content/Cold-Spot-Scanner/results/cold_spots/Cold_spots_residues_due_to_CH_interactions.csv\n",
        "!rm /content/Cold-Spot-Scanner/results/cold_spots/Cold_spots_due_to_SC_interactions.csv "
      ]
    },
    {
      "cell_type": "code",
      "execution_count": null,
      "metadata": {
        "id": "vY2Ele9EK71E"
      },
      "outputs": [],
      "source": [
        "from google.colab import files\n",
        "import shutil\n",
        "shutil.make_archive('cold_spots', 'zip', 'cold_spots')\n",
        "files.download(f'cold_spots.zip')"
      ]
    }
  ],
  "metadata": {
    "colab": {
      "collapsed_sections": [
        "KWgOmtUmPDNG",
        "18zXDbemRcfP",
        "PWjveO8hqBFt"
      ],
      "provenance": []
    },
    "gpuClass": "standard",
    "kernelspec": {
      "display_name": "Python 3 (ipykernel)",
      "language": "python",
      "name": "python3"
    },
    "language_info": {
      "codemirror_mode": {
        "name": "ipython",
        "version": 3
      },
      "file_extension": ".py",
      "mimetype": "text/x-python",
      "name": "python",
      "nbconvert_exporter": "python",
      "pygments_lexer": "ipython3",
      "version": "3.9.7"
    }
  },
  "nbformat": 4,
  "nbformat_minor": 0
}